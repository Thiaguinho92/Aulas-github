{
  "nbformat": 4,
  "nbformat_minor": 0,
  "metadata": {
    "colab": {
      "provenance": [],
      "authorship_tag": "ABX9TyPHB5mFJ+cL+dxxUumeEkWz",
      "include_colab_link": true
    },
    "kernelspec": {
      "name": "python3",
      "display_name": "Python 3"
    },
    "language_info": {
      "name": "python"
    }
  },
  "cells": [
    {
      "cell_type": "markdown",
      "metadata": {
        "id": "view-in-github",
        "colab_type": "text"
      },
      "source": [
        "<a href=\"https://colab.research.google.com/github/Thiaguinho92/Aulas-github/blob/main/C%C3%B3pia_de_C%C3%B3pia_de_C%C3%B3pia_de_C%C3%B3pia_de_Python_guanabara_lista_de_exerc%C3%ADcios.ipynb\" target=\"_parent\"><img src=\"https://colab.research.google.com/assets/colab-badge.svg\" alt=\"Open In Colab\"/></a>"
      ]
    },
    {
      "cell_type": "code",
      "execution_count": null,
      "metadata": {
        "colab": {
          "base_uri": "https://localhost:8080/"
        },
        "id": "hp0cz4EaZtvr",
        "outputId": "c13ca766-ed99-456e-94d8-10d1d46f2b21"
      },
      "outputs": [
        {
          "output_type": "stream",
          "name": "stdout",
          "text": [
            "Qual o seu nome? Thiago\n",
            "Seja bem vindo(a) Thiago ao seu novo curso de python\n"
          ]
        }
      ],
      "source": [
        "#ex002\n",
        "nome = str(input('Qual o seu nome? '))\n",
        "print(f'Seja bem vindo(a) {nome} ao seu novo curso de python')\n"
      ]
    },
    {
      "cell_type": "code",
      "source": [
        "#ex003\n",
        "n = int(input('Digite um número:'))\n",
        "n2 = int(input('Digite outro número:'))\n",
        "soma = n + n2\n",
        "print(f'{n} + {n2} = {soma}')\n"
      ],
      "metadata": {
        "colab": {
          "base_uri": "https://localhost:8080/"
        },
        "id": "S-dKa7YHaFs_",
        "outputId": "da57dbaa-d9b3-46ba-f6fb-a48434d58798"
      },
      "execution_count": null,
      "outputs": [
        {
          "output_type": "stream",
          "name": "stdout",
          "text": [
            "Digite um número:5\n",
            "Digite outro número:8\n",
            "5 + 8 = 13\n"
          ]
        }
      ]
    },
    {
      "cell_type": "code",
      "source": [
        "#ex004\n",
        "a = input('Digite algo ')\n",
        "print('O tipo primitivo desse valor é:',type(a))\n",
        "print('Só tem espaços? ', a.isspace())\n",
        "print('É um número? ', a.isnumeric())\n",
        "print('É alfábetico? ', a.isalpha())\n",
        "print('É alfanumérico? ', a.isalnum())\n"
      ],
      "metadata": {
        "colab": {
          "base_uri": "https://localhost:8080/"
        },
        "id": "vt03VrzOaxke",
        "outputId": "a4626fdd-7a18-4ae1-db18-1260f18b9ecb"
      },
      "execution_count": null,
      "outputs": [
        {
          "output_type": "stream",
          "name": "stdout",
          "text": [
            "Digite algo Gustavo123\n",
            "O tipo primitivo desse valor é: <class 'str'>\n",
            "Só tem espaços?  False\n",
            "É um número?  False\n",
            "É alfábetico?  False\n",
            "É alfanumérico?  True\n"
          ]
        }
      ]
    },
    {
      "cell_type": "code",
      "source": [
        "#ex005\n",
        "núm = int(input('Digite um número: '))\n",
        "x = núm - 1\n",
        "y = núm + 1\n",
        "print(f'O antecessor do número {núm} é {x} e seu sucessor é {y}')\n"
      ],
      "metadata": {
        "colab": {
          "base_uri": "https://localhost:8080/"
        },
        "id": "hIuxPaMEcS4q",
        "outputId": "06a4aaf0-c217-41c9-e799-65777b50108a"
      },
      "execution_count": null,
      "outputs": [
        {
          "output_type": "stream",
          "name": "stdout",
          "text": [
            "Digite um número: 5\n",
            "O antecessor do número 5 é 4 e seu sucessor é 6\n"
          ]
        }
      ]
    },
    {
      "cell_type": "code",
      "source": [
        "#ex006\n",
        "num = int(input('Digite um número: '))\n",
        "dobro = num * 2\n",
        "triplo = num * 3\n",
        "raiz = num ** (1/2)\n",
        "print(f'o dobro de {num} é {dobro}')\n",
        "print(f'O triplo de {num} é {triplo}')\n",
        "print(f'A raiz de {num} é {raiz:.0f}')"
      ],
      "metadata": {
        "colab": {
          "base_uri": "https://localhost:8080/"
        },
        "id": "iuvi53V0dBF5",
        "outputId": "a9c54a15-e8f6-46e4-93f3-8911ffb06d37"
      },
      "execution_count": null,
      "outputs": [
        {
          "output_type": "stream",
          "name": "stdout",
          "text": [
            "Digite um número: 4\n",
            "o dobro de 4 é 8\n",
            "O triplo de 4 é 12\n",
            "A raiz de 4 é 2\n"
          ]
        }
      ]
    },
    {
      "cell_type": "code",
      "source": [
        "#ex007\n",
        "n1 = float(input('Primeira nota: '))\n",
        "n2 = float(input('Segunda nota: '))\n",
        "média = (n1 + n2) / 2\n",
        "\n",
        "print('A média das notas {} e {} foi {:.2f}'.format(n1,n2,média))"
      ],
      "metadata": {
        "colab": {
          "base_uri": "https://localhost:8080/"
        },
        "id": "7aZ5g3Ooe8LB",
        "outputId": "4e46c890-e8b7-46cb-cf92-f93a29474281"
      },
      "execution_count": null,
      "outputs": [
        {
          "output_type": "stream",
          "name": "stdout",
          "text": [
            "Primeira nota: 5.5\n",
            "Segunda nota: 8.6\n",
            "A média das notas 5.5 e 8.6 foi 7.05\n"
          ]
        }
      ]
    },
    {
      "cell_type": "code",
      "source": [
        "#ex008\n",
        "medida = float(input('Digite a distância em metros: '))\n",
        "cm = medida * 100\n",
        "mm = medida * 1000\n",
        "km = medida /1000\n",
        "\n",
        "print(f'A medida de {medida}m, corresponde a {cm:.0f}')\n",
        "print(f'A medida de {medida}m, corresponde a {mm:.0f}')"
      ],
      "metadata": {
        "colab": {
          "base_uri": "https://localhost:8080/"
        },
        "id": "ebnpyjGRgZ4P",
        "outputId": "cf152359-97d7-456f-f045-909742d58b39"
      },
      "execution_count": null,
      "outputs": [
        {
          "output_type": "stream",
          "name": "stdout",
          "text": [
            "Digite a distância em metros: 500\n",
            "A medida de 500.0m, corresponde a 50000\n",
            "A medida de 500.0m, corresponde a 500000\n"
          ]
        }
      ]
    },
    {
      "cell_type": "code",
      "source": [
        "#ex009\n",
        "num = int(input('Digite um número: '))\n",
        "print(f'{num} X {1} = {num*1}')\n",
        "print(f'{num} X {2} = {num*2}')\n",
        "print(f'{num} X {3} = {num*3}')\n",
        "print(f'{num} X {4} = {num*4}')\n",
        "print(f'{num} X {5} = {num*5}')\n",
        "print(f'{num} X {6} = {num*6}')\n",
        "print(f'{num} X {7} = {num*7}')\n",
        "print(f'{num} X {8} = {num*8}')\n",
        "print(f'{num} X {9} = {num*9}')\n",
        "print(f'{num} X {10} = {num*10}')\n"
      ],
      "metadata": {
        "colab": {
          "base_uri": "https://localhost:8080/"
        },
        "id": "CJocbXRHiGdl",
        "outputId": "67cfc97d-b33f-471b-bbdd-197ae2c946c1"
      },
      "execution_count": null,
      "outputs": [
        {
          "output_type": "stream",
          "name": "stdout",
          "text": [
            "Digite um número: 5\n",
            "5 X 1 = 5\n",
            "5 X 2 = 10\n",
            "5 X 3 = 15\n",
            "5 X 4 = 20\n",
            "5 X 5 = 25\n",
            "5 X 6 = 30\n",
            "5 X 7 = 35\n",
            "5 X 8 = 40\n",
            "5 X 9 = 45\n",
            "5 X 10 = 50\n"
          ]
        }
      ]
    },
    {
      "cell_type": "code",
      "source": [
        "#ex010\n",
        "real = float(input('Quanto você tem de dinheiro? '))\n",
        "dolar = real / 5.17\n",
        "\n",
        "print(f'Você tem R$ {real} e pode comprar $ {dolar:.2f} ')"
      ],
      "metadata": {
        "colab": {
          "base_uri": "https://localhost:8080/"
        },
        "id": "6aw1XZ-1i-T2",
        "outputId": "72a67bd2-1e84-4d13-dda3-99d947576a54"
      },
      "execution_count": null,
      "outputs": [
        {
          "output_type": "stream",
          "name": "stdout",
          "text": [
            "Quanto você tem de dinheiro? 20\n",
            "Você tem R$20.0 e pode comprar $3.87 \n"
          ]
        }
      ]
    },
    {
      "cell_type": "code",
      "source": [
        "#ex011\n",
        "largura = float(input('Qual a largura da parede? '))\n",
        "altura = float(input('Qual a altura da parede? '))\n",
        "área = largura * altura\n",
        "print(f'Sua parede tem a dimensão de {largura}x{altura} e sua área é de {área}m²')\n",
        "tinta = área / 2\n",
        "print(f'para pintar essa parede você irá precisar de {tinta}')"
      ],
      "metadata": {
        "id": "62hs4dTXj-km",
        "colab": {
          "base_uri": "https://localhost:8080/"
        },
        "outputId": "40b726ca-c2c7-4ded-9bd6-6be4ad40c0f6"
      },
      "execution_count": null,
      "outputs": [
        {
          "output_type": "stream",
          "name": "stdout",
          "text": [
            "Qual a largura da parede? 5\n",
            "Qual a altura da parede? 2\n",
            "Sua parede tem a dimensão de 5.0x2.0 e sua área é de 10.0m²\n",
            "para pintar essa parede você irá precisar de 5.0\n"
          ]
        }
      ]
    },
    {
      "cell_type": "code",
      "source": [
        "#ex012\n",
        "preço = float(input('Digite o preço do produto:R$ '))\n",
        "desconto = preço - (preço * 5 / 100) \n",
        "print(f'O produto custa R${preço} e com desconto de 5% fica em R${desconto}')"
      ],
      "metadata": {
        "colab": {
          "base_uri": "https://localhost:8080/"
        },
        "id": "2nZuS6_nlvJB",
        "outputId": "7c078f0e-0b32-4039-ac5d-6b5a4ef1b264"
      },
      "execution_count": null,
      "outputs": [
        {
          "output_type": "stream",
          "name": "stdout",
          "text": [
            "Digite o preço do produto:R$ 100\n",
            "O produto custa R$100.0 e com desconto de 5% fica em R$95.0\n"
          ]
        }
      ]
    },
    {
      "cell_type": "code",
      "source": [
        "#ex013\n",
        "salário = float(input('Diga seu salário: R$ '))\n",
        "reajuste = salário + (salário * 15 / 100)\n",
        "print('Seu salário era de R$ {} e com reajuste ficou em R$ {}'.format(salário, reajuste))\n"
      ],
      "metadata": {
        "colab": {
          "base_uri": "https://localhost:8080/"
        },
        "id": "D2OemndtmH5p",
        "outputId": "2c064826-4650-4638-eba6-17313b0af793"
      },
      "execution_count": null,
      "outputs": [
        {
          "output_type": "stream",
          "name": "stdout",
          "text": [
            "Diga seu salário: R$ 4000\n",
            "Seu salário era de R$ 4000.0 e com reajuste ficou em R$ 4600.0\n"
          ]
        }
      ]
    },
    {
      "cell_type": "code",
      "source": [
        "#ex014\n",
        "c = float(input('Informe a temperatura em ºC: '))\n",
        "f = ((9 * c) / 5) + 32\n",
        "print(f'A temperatura de {c} ºC corresponde a {f}ºF!')\n"
      ],
      "metadata": {
        "colab": {
          "base_uri": "https://localhost:8080/"
        },
        "id": "5TlasW4BoYT4",
        "outputId": "131b379f-1129-4258-e9a2-0692934fa132"
      },
      "execution_count": null,
      "outputs": [
        {
          "output_type": "stream",
          "name": "stdout",
          "text": [
            "Informe a temperatura em ºC: 45\n",
            "A temperatura de 45.0 ºC corresponde a 113.0ºF!\n"
          ]
        }
      ]
    },
    {
      "cell_type": "code",
      "source": [
        "#ex015\n",
        "km = float(input('Quantos quilometros você percorreu? '))\n",
        "dias = int(input('O carro foi alugado por quantos dias? '))\n",
        "pago =(dias * 60) + (km * 0.15)\n",
        "print(f'O total a pagar é de R$ {pago:.2f}')\n"
      ],
      "metadata": {
        "colab": {
          "base_uri": "https://localhost:8080/"
        },
        "id": "CEZTJ-NFpbva",
        "outputId": "82c5554c-48ba-4fcf-a6fc-1d323585aa1a"
      },
      "execution_count": null,
      "outputs": [
        {
          "output_type": "stream",
          "name": "stdout",
          "text": [
            "Quantos quilometros você percorreu? 300\n",
            "O carro foi alugado por quantos dias? 5\n",
            "O total a pagar é de R$ 345.00\n"
          ]
        }
      ]
    },
    {
      "cell_type": "code",
      "source": [
        "#ex016\n",
        "from math import trunc\n",
        "num = float(input('Digite um valor: '))\n",
        "print(f'O valor digitado foi {num} e a sua porção inteira é {math.trunc(num)}')"
      ],
      "metadata": {
        "id": "DsuFAO1Mrd8P",
        "colab": {
          "base_uri": "https://localhost:8080/"
        },
        "outputId": "611d20e1-ceb6-490a-830b-8fa08f1b2885"
      },
      "execution_count": null,
      "outputs": [
        {
          "output_type": "stream",
          "name": "stdout",
          "text": [
            "Digite um valor: 8.5\n",
            "O valor digitado foi 8.5 e a sua porção inteira é 8\n"
          ]
        }
      ]
    },
    {
      "cell_type": "code",
      "source": [
        "#ex017\n",
        "#from math import hypot\n",
        "co = float(input('Comprimento do cateto oposto: '))\n",
        "ca = float(input('Comprimento do cateto adjacente: '))\n",
        "hi = math.hypot(co, ca)\n",
        "print(f'A hipotenusa vai medir {hi:.2f}')\n"
      ],
      "metadata": {
        "colab": {
          "base_uri": "https://localhost:8080/"
        },
        "id": "GUEpnmp3sSrq",
        "outputId": "150ffb87-62d7-4127-8607-a00b9cafbbe4"
      },
      "execution_count": null,
      "outputs": [
        {
          "output_type": "stream",
          "name": "stdout",
          "text": [
            "Comprimento do cateto oposto: 2\n",
            "Comprimento do cateto adjacente: 2.5\n",
            "A hipotenusa vai medir 3.20\n"
          ]
        }
      ]
    },
    {
      "cell_type": "code",
      "source": [
        "#ex018\n",
        "import math\n",
        "ângulo = float(input('Digite o ângulo desejado: '))\n",
        "seno = math.sin(math.radians(ângulo))\n",
        "print(f'O ângulo de {ângulo} tem o seno de {seno:.2f}')\n",
        "cosseno = math.cos(math.radians(ângulo))\n",
        "print(f'O ângulo de {ângulo} tem o cosseno de {cosseno:.2f}')\n",
        "tangente = math.tan(math.radians(ângulo))\n",
        "print(f'O ângulo de {ângulo} tem a tangente de {tangente:.2f}')"
      ],
      "metadata": {
        "colab": {
          "base_uri": "https://localhost:8080/"
        },
        "id": "gfQo0Dz-uBH6",
        "outputId": "8a2aeed6-86ea-4ce6-da8d-d7d2985d66ae"
      },
      "execution_count": null,
      "outputs": [
        {
          "output_type": "stream",
          "name": "stdout",
          "text": [
            "Digite o ângulo desejado: 30\n",
            "O ângulo de 30.0 tem o seno de 0.50\n",
            "O ângulo de 30.0 tem o cosseno de 0.87\n",
            "O ângulo de 30.0 tem a tangente de 0.58\n"
          ]
        }
      ]
    },
    {
      "cell_type": "code",
      "source": [
        "#ex019\n",
        "from random import choice\n",
        "aluno = input('Primeiro aluno: ')\n",
        "aluno1 = input('Segundo aluno: ')\n",
        "aluno2 = input('Terceiro aluno: ')\n",
        "aluno3 = input('Quarto aluno: ')\n",
        "lista = [aluno, aluno1, aluno2, aluno3]\n",
        "escolhido = random.choice(lista)\n",
        "print('O aluno escolhido foi {}'.format(escolhido))"
      ],
      "metadata": {
        "colab": {
          "base_uri": "https://localhost:8080/"
        },
        "id": "dnG51QIzwc4z",
        "outputId": "b9935aee-4d6c-4741-ad31-c38765d3b6a9"
      },
      "execution_count": null,
      "outputs": [
        {
          "output_type": "stream",
          "name": "stdout",
          "text": [
            "Primeiro aluno: Pedro\n",
            "Segundo aluno: Ana\n",
            "Terceiro aluno: Gustavo\n",
            "Quarto aluno: Bruno\n",
            "O aluno escolhido foi Gustavo\n"
          ]
        }
      ]
    },
    {
      "cell_type": "code",
      "source": [
        "#ex020\n",
        "from random import shuffle\n",
        "n1 = str(input('Primeiro aluno: '))\n",
        "n2 = str(input('Segundo aluno: '))\n",
        "n3 = str(input('Terceiro aluno: '))\n",
        "n4 = str(input('Quarto aluno: '))\n",
        "lista = [n1, n2, n3, n4]\n",
        "shuffle(lista)\n",
        "print('A ordem de apresentação será')\n",
        "print(lista)\n"
      ],
      "metadata": {
        "colab": {
          "base_uri": "https://localhost:8080/"
        },
        "id": "fgyL6gdcx1Em",
        "outputId": "b756e2cd-8819-485b-f336-997751ce458c"
      },
      "execution_count": null,
      "outputs": [
        {
          "output_type": "stream",
          "name": "stdout",
          "text": [
            "Primeiro aluno: Gustavo\n",
            "Segundo aluno: Pedro\n",
            "Terceiro aluno: João\n",
            "Quarto aluno: Maria\n",
            "A ordem de apresentação será\n",
            "['Maria', 'João', 'Gustavo', 'Pedro']\n"
          ]
        }
      ]
    },
    {
      "cell_type": "code",
      "source": [
        "#ex021\n",
        "#import pygame\n",
        "#pygame.init()\n",
        "#pygame.mixer.music.load()\n",
        "#pygame.mixer.music.play()\n",
        "#pygame.event.wait()"
      ],
      "metadata": {
        "id": "ax2KvMlwcN1x"
      },
      "execution_count": null,
      "outputs": []
    },
    {
      "cell_type": "code",
      "source": [
        "#ex028\n",
        "from random import randint\n",
        "from time import sleep\n",
        "computador = randint(0, 5)\n",
        "print('-=' * 20)\n",
        "print('Vou pensar em um número entre 0 e 5. Tente advinhar...')\n",
        "print('-=' * 20)\n",
        "jogador = int(input('Em que número eu pensei: '))\n",
        "print('PROCESSANDO')\n",
        "sleep(4)\n",
        "if jogador == computador:\n",
        "  print('Parabéns! você venceu')\n",
        "else:\n",
        "  print('GANHEI! eu pensei no número {} e não no {}'.format(computador, jogador))\n",
        "\n",
        "\n",
        "\n"
      ],
      "metadata": {
        "colab": {
          "base_uri": "https://localhost:8080/"
        },
        "id": "mVOm0dbRelZu",
        "outputId": "7b22355c-df68-4397-bf7e-c7179d472c36"
      },
      "execution_count": null,
      "outputs": [
        {
          "output_type": "stream",
          "name": "stdout",
          "text": [
            "-=-=-=-=-=-=-=-=-=-=-=-=-=-=-=-=-=-=-=-=\n",
            "Vou pensar em um número entre 0 e 5. Tente advinhar...\n",
            "-=-=-=-=-=-=-=-=-=-=-=-=-=-=-=-=-=-=-=-=\n",
            "Em que número eu pensei: 5\n",
            "PROCESSANDO\n",
            "GANHEI! eu pensei no número 1 e não no 5\n"
          ]
        }
      ]
    },
    {
      "cell_type": "code",
      "source": [
        "#ex029\n",
        "v = float(input('Qual a velocidade do veículo: '))\n",
        "if v > 80:\n",
        "  print('MULTADO! Você excedeu o limite de velocidade de 80Km')\n",
        "  multa = (v - 80) * 7\n",
        "  print(f'Você deve pagar uma multa de R$ {multa:.2f}')\n",
        "print('Tenha um bom dia! Dirija com segurança.')"
      ],
      "metadata": {
        "colab": {
          "base_uri": "https://localhost:8080/"
        },
        "id": "eIhb9c6pgylT",
        "outputId": "35d90d05-54c1-4c13-fefc-b12befb367c8"
      },
      "execution_count": null,
      "outputs": [
        {
          "output_type": "stream",
          "name": "stdout",
          "text": [
            "Qual a velocidade do veículo: 79\n",
            "Tenha um bom dia! Dirija com segurança.\n"
          ]
        }
      ]
    },
    {
      "cell_type": "code",
      "source": [
        "#ex030\n",
        "núm = int(input('Escolha um número: '))\n",
        "resultado = núm % 2\n",
        "if resultado == 0:\n",
        "  print(f'O número {núm} é par. ')\n",
        "else:\n",
        "  print('O número é impar')"
      ],
      "metadata": {
        "colab": {
          "base_uri": "https://localhost:8080/"
        },
        "id": "GLrGM1UZD1o3",
        "outputId": "35677d94-f8d1-4e00-8e7b-153d49277305"
      },
      "execution_count": null,
      "outputs": [
        {
          "output_type": "stream",
          "name": "stdout",
          "text": [
            "Escolha um número: 9\n",
            "O número é impar\n"
          ]
        }
      ]
    },
    {
      "cell_type": "code",
      "source": [
        "#ex31\n",
        "Dt = float(input('Qual a distância da sua viagem? '))\n",
        "print(f'Você está prestes a começar uma viagem de {Dt}')\n",
        "preço = Dt * 0.50 if Dt <= 200 else Dt * 0.45\n",
        "print(f' você viajou {Dt}Km e a sua passagem ficou em {preço}')\n"
      ],
      "metadata": {
        "colab": {
          "base_uri": "https://localhost:8080/"
        },
        "id": "RQr3vPxyEy-E",
        "outputId": "ae224e1b-4064-4e61-d300-9d3c0a47bcb8"
      },
      "execution_count": null,
      "outputs": [
        {
          "output_type": "stream",
          "name": "stdout",
          "text": [
            "Qual a distância da sua viagem? 100\n",
            "Você está prestes a começar uma viagem de 100.0\n",
            " você viajou 100.0Km e a sua passagem ficou em 50.0\n"
          ]
        }
      ]
    },
    {
      "cell_type": "code",
      "source": [
        "#ex32\n",
        "ano = int(input('Que ano você quer analisar? '))\n",
        "if ano % 4 == 0 and ano % 100 != 0 or ano % 400 == 0:\n",
        "  print(f'O ano {ano} é BISSEXTO')\n",
        "else:\n",
        "  print(f'O ano {ano} não é BISSEXTO')"
      ],
      "metadata": {
        "id": "-OFa6f5pFLSP",
        "colab": {
          "base_uri": "https://localhost:8080/"
        },
        "outputId": "1f7a47fb-70eb-48ef-9bcb-d914671b15aa"
      },
      "execution_count": null,
      "outputs": [
        {
          "output_type": "stream",
          "name": "stdout",
          "text": [
            "Que ano você quer analisar? 2024\n",
            "O ano 2024 é BISSEXTO\n"
          ]
        }
      ]
    },
    {
      "cell_type": "code",
      "source": [
        "#ex033\n",
        "a = int(input('Primeiro número: '))\n",
        "b = int(input('Segundo número: '))\n",
        "c = int(input('Terceiro número: '))\n",
        "menor = a\n",
        "if b<a and b<c:\n",
        "  menor = b\n",
        "if c<a and c<b:\n",
        "  menor = c\n",
        "maior = a\n",
        "if b>a and b>c:\n",
        "  maior = b\n",
        "if c>a and c>b:\n",
        "  maior = c\n",
        "\n",
        "print(f'O menor valor é {menor}')\n",
        "print(f'O maior valor é {maior}')\n",
        "\n"
      ],
      "metadata": {
        "colab": {
          "base_uri": "https://localhost:8080/"
        },
        "id": "H-yXqW_MIqCN",
        "outputId": "f68db340-e3e6-4b68-a79c-47b6b2373ba9"
      },
      "execution_count": null,
      "outputs": [
        {
          "output_type": "stream",
          "name": "stdout",
          "text": [
            "Primeiro número: 10\n",
            "Segundo número: 1\n",
            "Terceiro número: 5\n",
            "O menor valor é 1\n",
            "O maior valor é 10\n"
          ]
        }
      ]
    },
    {
      "cell_type": "code",
      "source": [
        "#ex034\n",
        "\n",
        "salario = float(input('Quanto você recebe de salário? '))\n",
        "\n",
        "if salario > 1250:\n",
        "  novo = (salario * (10/100)) + salario\n",
        "else:\n",
        "  novo = (salario * (15/100)) + salario\n",
        "\n",
        "print(f'seu salário era de {salario:.2f} e agora é de {novo:.2f}')"
      ],
      "metadata": {
        "colab": {
          "base_uri": "https://localhost:8080/"
        },
        "id": "bk0WwUqhKX7Q",
        "outputId": "fc43ceb2-66a2-43db-f9c4-3fce71635c13"
      },
      "execution_count": null,
      "outputs": [
        {
          "output_type": "stream",
          "name": "stdout",
          "text": [
            "-=-=-=-=-=-=-=-=-=-=-=-=-=-=-=-=-=-=-=-=\n",
            "Quanto você recebe de salário? 5\n",
            "-=-=-=-=-=-=-=-=-=-=-=-=-=-=-=-=-=-=-=-=\n",
            "seu salário era de 5.00 e agora é de 5.75\n"
          ]
        }
      ]
    },
    {
      "cell_type": "code",
      "source": [
        "#ex035\n",
        "print('-=' * 20)\n",
        "print('Analisador de triângulos')\n",
        "print('-=' * 20)\n",
        "r1 = float(input('Primeiro segmento: '))\n",
        "r2 = float(input('Segundo segmento: '))\n",
        "r3 = float(input('Terceiro segmento: '))\n",
        "if r1 < r2 + r3 and r2 < r1 + r3 and r3 < r1 + r2:\n",
        "  print('os segmentos acima podem formar um TRIÂNGULO! ')\n",
        "else:\n",
        "  print('Os segmentos acima não podem formar um TRIÂNGULO')\n"
      ],
      "metadata": {
        "id": "KpAF8kBoMRNM",
        "outputId": "2193944a-cbba-4252-fd85-18240cc5b85b",
        "colab": {
          "base_uri": "https://localhost:8080/"
        }
      },
      "execution_count": null,
      "outputs": [
        {
          "output_type": "stream",
          "name": "stdout",
          "text": [
            "-=-=-=-=-=-=-=-=-=-=-=-=-=-=-=-=-=-=-=-=\n",
            "Analisador de triângulos\n",
            "-=-=-=-=-=-=-=-=-=-=-=-=-=-=-=-=-=-=-=-=\n",
            "Primeiro segmento: 5\n",
            "Segundo segmento: 7\n",
            "Terceiro segmento: 8\n",
            "os segmentos acima podem formar um TRIÂNGULO! \n"
          ]
        }
      ]
    },
    {
      "cell_type": "code",
      "source": [
        "#ex036\n",
        "casa = float(input('Qual o valor da casa? '))\n",
        "salario = float(input('QUal o seu salário? '))\n",
        "anos = int(input('Quantos anos de financiamento? '))\n",
        "prestação = casa / (anos * 12)\n",
        "minimo = salario * (30 / 100)\n",
        "if prestação <= minimo:\n",
        "  print('Empréstimo concedido!')\n",
        "else:\n",
        "  print('Empréstimo negado!')\n",
        "print(f'Para pagar uma casa de R$ {casa:.2f} em {anos} anos', end=' ') \n",
        "print(f'o valor da prestação é {prestação:.2f}')\n",
        "\n"
      ],
      "metadata": {
        "colab": {
          "base_uri": "https://localhost:8080/"
        },
        "id": "tOdyB1ayOmpv",
        "outputId": "4911fa56-e552-4b82-a989-bfe44b17bcdb"
      },
      "execution_count": null,
      "outputs": [
        {
          "output_type": "stream",
          "name": "stdout",
          "text": [
            "Qual o valor da casa? 300000\n",
            "QUal o seu salário? 15000\n",
            "Quantos anos de financiamento? 10\n",
            "Empréstimo concedido!\n",
            "Para pagar uma casa de R$ 300000.00 em 10 anos o valor da prestação é 2500.00\n"
          ]
        }
      ]
    },
    {
      "cell_type": "code",
      "source": [
        "#ex037\n",
        "num = int(input('Digite um número inteiro: '))\n",
        "print('''Escolha uma das bases para conversão:\n",
        "[1] converter para BINÁRIO\n",
        "[2] converter para OCTAL\n",
        "[3] converter para HEXADECIMAL''')\n",
        "opção = int(input('Sua opção: '))\n",
        "if opção == 1:\n",
        "  print(f'{num} convertido para BINÁRIO é igual a {bin(num)}')\n",
        "elif opção == 2:\n",
        "  print(f'{num} convertido para OCTAL é igual a {oct(num)}')\n",
        "elif opção == 3:\n",
        "  print(f'{num} convertido para HEXADECIMAL é igual a {hex(num)}')\n",
        "else:\n",
        "  print('Opção errada, tente novamente')\n"
      ],
      "metadata": {
        "colab": {
          "base_uri": "https://localhost:8080/"
        },
        "id": "7cXD-UYOmEfT",
        "outputId": "27f015a9-8382-4dc9-eb8f-4756ba34d2f6"
      },
      "execution_count": null,
      "outputs": [
        {
          "output_type": "stream",
          "name": "stdout",
          "text": [
            "Digite um número inteiro: 321\n",
            "Escolha uma das bases para conversão:\n",
            "[1] converter para BINÁRIO\n",
            "[2] converter para OCTAL\n",
            "[3] converter para HEXADECIMAL\n",
            "Sua opção: 3\n",
            "321 convertido para HEXADECIMAL é igual a 0x141\n"
          ]
        }
      ]
    },
    {
      "cell_type": "code",
      "source": [
        "#ex038\n",
        "num1 = int(input('Primeiro valor: '))\n",
        "num2 = int(input('Segundo valor: '))\n",
        "#\n",
        "if num1 > num2:\n",
        "  #maior = num1\n",
        "  print(f'Primeiro valor {num1} é maior. ')\n",
        "elif num2 > num1:\n",
        "  #maior = num2\n",
        "  print(f'Segundo valor {num2} é maior. ')\n",
        "else:\n",
        "  print('Não existe valor maior, os dois são iguais.')"
      ],
      "metadata": {
        "colab": {
          "base_uri": "https://localhost:8080/"
        },
        "id": "cAM6f0nDEERj",
        "outputId": "25e3441b-bf03-40ae-98cc-85f82d3e82fa"
      },
      "execution_count": null,
      "outputs": [
        {
          "output_type": "stream",
          "name": "stdout",
          "text": [
            "Primeiro valor: 6\n",
            "Segundo valor: 5\n",
            "Primeiro valor 6 é maior. \n"
          ]
        }
      ]
    },
    {
      "cell_type": "code",
      "source": [
        "#ex039\n",
        "from datetime import date\n",
        "atual = date.today().year\n",
        "nasc = int(input('Ano de nascimento: '))\n",
        "idade = atual - nasc\n",
        "temp = idade - 18\n",
        "temp1 = 18 - idade\n",
        "print(f'Quem nasceu em {nasc} tem {idade} anos em {atual}')\n",
        "if idade == 18:\n",
        "  print(f'Você tem {idade} anos precisa se alistar nesse ano: ')\n",
        "elif idade > 18:\n",
        "  print(f'você tem {idade}, deveria ter se alistado há {temp} anos atrás.')\n",
        "  ano = atual - temp\n",
        "  print(f'seu ano de alistamento foi em {ano}')\n",
        "elif idade < 18:\n",
        "  print(f'você tem {idade} anos, ainda faltam {temp1} anos para o seu alistamento.')\n",
        "  ano = atual + temp1\n",
        "  print(f'Você deverá se alistar em {ano}')"
      ],
      "metadata": {
        "colab": {
          "base_uri": "https://localhost:8080/"
        },
        "id": "dyPDEPn9F7Vy",
        "outputId": "47c5ca95-91d8-4618-fb20-48978fe86568"
      },
      "execution_count": null,
      "outputs": [
        {
          "output_type": "stream",
          "name": "stdout",
          "text": [
            "Ano de nascimento: 2010\n",
            "Quem nasceu em 2010 tem 13 anos em 2023\n",
            "você tem 13 anos, ainda faltam 5 anos para o seu alistamento.\n",
            "Você deverá se alistar em 2028\n"
          ]
        }
      ]
    },
    {
      "cell_type": "code",
      "source": [
        "#ex040\n",
        "nota1 = float(input('Primeira nota: '))\n",
        "nota2 = float(input('Segunda nota: '))\n",
        "soma = nota1 + nota2\n",
        "média = soma / 2\n",
        "print(f'sua média foi {média}')\n",
        "if média < 5:\n",
        "  print('REPROVADO!')\n",
        "elif média >= 5 and média< 6.9:\n",
        "  print('RECUPERAÇÃO!')\n",
        "elif média > 7:\n",
        "  print('APROVADO')"
      ],
      "metadata": {
        "colab": {
          "base_uri": "https://localhost:8080/"
        },
        "id": "sSf0a86sKO71",
        "outputId": "0e371ce7-83c6-49df-e121-a039496d9db2"
      },
      "execution_count": null,
      "outputs": [
        {
          "output_type": "stream",
          "name": "stdout",
          "text": [
            "Primeira nota: 5\n",
            "Segunda nota: 5\n",
            "sua média foi 5.0\n",
            "RECUPERAÇÃO!\n"
          ]
        }
      ]
    },
    {
      "cell_type": "code",
      "source": [
        "#ex041\n",
        "atual = date.today().year\n",
        "nascimento = int(input('Digite sua data de nascimento: '))\n",
        "idade = atual - nascimento\n",
        "print(f'sua data de nascimento é {nascimento} e você tem {idade} anos de idade. ')\n",
        "if idade <= 9:\n",
        "  print('CATEGORIA MIRIM')\n",
        "elif idade <= 14:\n",
        "  print('CATEGORIA INFANTIL')\n",
        "elif idade <= 19:\n",
        "  print('CATEGORIA JÚNIOR')\n",
        "elif idade <= 25:\n",
        "  print('CATEGORIA SÊNIOR')\n",
        "elif idade > 25:\n",
        "  print('CATEGORIA MASTER')\n"
      ],
      "metadata": {
        "colab": {
          "base_uri": "https://localhost:8080/"
        },
        "id": "EKgQHiv5MRe3",
        "outputId": "c01010a3-8b7d-498e-9dab-e16db042aece"
      },
      "execution_count": null,
      "outputs": [
        {
          "output_type": "stream",
          "name": "stdout",
          "text": [
            "Digite sua data de nascimento: 2003\n",
            "sua data de nascimento é 2003 e você tem 20 anos de idade. \n",
            "CATEGORIA SÊNIOR\n"
          ]
        }
      ]
    },
    {
      "cell_type": "code",
      "source": [
        "#EX042\n",
        "print('-=' * 20)\n",
        "print('Analisador de triângulos')\n",
        "print('-=' * 20)\n",
        "r1 = float(input('Primeiro segmento: '))\n",
        "r2 = float(input('Segundo segmento: '))\n",
        "r3 = float(input('Terceiro segmento: '))\n",
        "if r1 < r2 + r3 and r2 < r1 + r3 and r3 < r1 + r2:\n",
        "  print('os segmentos acima podem formar um TRIÂNGULO! ', end='')\n",
        "  if r1 == r2 == r3:\n",
        "    print('EQUILÁTERO')\n",
        "  elif r1 != r2 != r3 != r1:\n",
        "    print('ESCALENO') \n",
        "  else:\n",
        "    print('ISÓSCELES')\n",
        "\n",
        "else:\n",
        "  print('Os segmentos acima não podem formar um TRIÂNGULO')\n"
      ],
      "metadata": {
        "colab": {
          "base_uri": "https://localhost:8080/"
        },
        "id": "fLPh-N4QOFI-",
        "outputId": "9b891870-a0c4-4c79-9d96-b50bf1d3410b"
      },
      "execution_count": null,
      "outputs": [
        {
          "output_type": "stream",
          "name": "stdout",
          "text": [
            "-=-=-=-=-=-=-=-=-=-=-=-=-=-=-=-=-=-=-=-=\n",
            "Analisador de triângulos\n",
            "-=-=-=-=-=-=-=-=-=-=-=-=-=-=-=-=-=-=-=-=\n",
            "Primeiro segmento: 4\n",
            "Segundo segmento: 4\n",
            "Terceiro segmento: 1\n",
            "os segmentos acima podem formar um TRIÂNGULO! ISÓSCELES\n"
          ]
        }
      ]
    },
    {
      "cell_type": "code",
      "source": [
        "#ex043\n",
        "peso = float(input('Seu peso: '))\n",
        "altura = float(input('altura em centímetros: '))\n",
        "imc = peso / ((altura / 100) ** 2)\n",
        "print(f'Você tem {peso}Kg e a altura de {altura} centimetros, seu IMC é de {imc:.2f}')\n",
        "if imc < 18.5:\n",
        "  print('Abaixo do peso')\n",
        "elif imc >= 18.5 and imc < 25:\n",
        "  print('Peso ideal')\n",
        "elif imc >= 25 and imc <= 30:\n",
        "  print('Sobrepeso')\n",
        "elif imc > 30 and imc <=40:\n",
        "  print('Obesidade')\n",
        "else:\n",
        "  print('Obesidade Mórbida')"
      ],
      "metadata": {
        "colab": {
          "base_uri": "https://localhost:8080/"
        },
        "id": "nWNh3SvERYJh",
        "outputId": "13382f97-43df-40c9-8c48-029fc2f566e8"
      },
      "execution_count": null,
      "outputs": [
        {
          "output_type": "stream",
          "name": "stdout",
          "text": [
            "Seu peso: 89\n",
            "altura em centímetros: 178\n",
            "Você tem 89.0Kg e a altura de 178.0 centimetros, seu IMC é de 28.09\n",
            "Sobrepeso\n"
          ]
        }
      ]
    },
    {
      "cell_type": "code",
      "source": [
        "#ex044\n",
        "preço = float(input('Valor do produto: '))\n",
        "print('''Como será o pagamento:\n",
        "[1] à vista dinheiro/cheque\n",
        "[2] à vista cartão\n",
        "[3] cartão em até 2X\n",
        "[4] cartão 3X ou mais''')\n",
        "opção = int(input('Escolha sua opção: '))\n",
        "\n",
        "if opção == 1:\n",
        "  total = preço - (preço  * (10/100))\n",
        "  \n",
        "elif opção == 2:\n",
        "  total = preço - (preço * (5/100))\n",
        "elif opção == 3:\n",
        "  total = preço\n",
        "  parcela = total / 2\n",
        "  print(f'sua compra ficou em {total} e será parcelada em 2 vezes de {parcela}')\n",
        "elif opção == 4:  \n",
        "  total = preço + (preço * (20/100))\n",
        "  totalparcela = int(input('Deseja parcelar em quantas vezes? '))\n",
        "  parcela = total / totalparcela\n",
        "  print(f'sua compra de R$ {preço:.2f} sofreu um acréscimo de 20% será dividida em {totalparcela} vezes de {parcela}')\n",
        "print(f'a sua compra de R$ {preço:.2f}, ficará em R$ {total:.2f} ')\n",
        "  \n",
        "\n",
        "\n",
        "  "
      ],
      "metadata": {
        "colab": {
          "base_uri": "https://localhost:8080/"
        },
        "id": "Dl88ICj3VnF0",
        "outputId": "38183db7-ea0e-4f9a-ead1-295e679de67e"
      },
      "execution_count": null,
      "outputs": [
        {
          "output_type": "stream",
          "name": "stdout",
          "text": [
            "Valor do produto: 1000\n",
            "Como será o pagamento:\n",
            "[1] à vista dinheiro/cheque\n",
            "[2] à vista cartão\n",
            "[3] cartão em até 2X\n",
            "[4] cartão 3X ou mais\n",
            "Escolha sua opção: 4\n",
            "Deseja parcelar em quantas vezes? 4\n",
            "sua compra de R$ 1000.00 sofre um acréscimo de 20% será dividida em 4 vezes de 300.0\n",
            "a sua compra de R$ 1000.00, ficará em R$ 1200.00 \n"
          ]
        }
      ]
    },
    {
      "cell_type": "code",
      "source": [
        "#ex045\n",
        "from time import sleep\n",
        "from random import randint\n",
        "itens = ('Pedra', 'Papel', 'Tesoura')\n",
        "computador = randint(0, 2)\n",
        "print('''\n",
        "[0] PEDRA\n",
        "[1] PAPEL\n",
        "[2] TESOURA ''')\n",
        "jogador = int(input('Qual a sua jogada? '))\n",
        "print('JO')\n",
        "sleep(1)\n",
        "print('KEN')\n",
        "sleep(1)\n",
        "print('PÔ')\n",
        "print('-=' * 10)\n",
        "print(f'Computador jogou {itens[computador]}')\n",
        "print('-=' * 10)\n",
        "print(f'Jogador jogou {itens[jogador]}')\n",
        "print('-=' * 10)\n",
        "if jogador == 0: #pedra\n",
        "  if computador == 0:\n",
        "   print(f'EMPATE! ')\n",
        "  elif computador == 1:\n",
        "    print('COMPUTADOR VENCE')\n",
        "  elif computador == 2:\n",
        "    print('JOGADOR VENCE')\n",
        "  else:\n",
        "    print('JOGADA INVÁLIDA')\n",
        "    \n",
        "elif jogador == 1: #Papel\n",
        "  if computador == 0:\n",
        "    print('JOGADOR VENCE')\n",
        "  elif computador == 1:\n",
        "    print('EMPATE')\n",
        "  elif computador == 2:\n",
        "    print('COMPUTADOR VENCE')\n",
        "  else:\n",
        "    print('JOGADA INVÁLIDA!')\n",
        "    \n",
        "elif jogador == 2: #Tesoura\n",
        "  if computador == 0:\n",
        "    print('COMPUTADOR VENCE')\n",
        "  elif computador == 1:\n",
        "    print('JOGADOR VENCE')\n",
        "  elif computador == 2:\n",
        "    print('EMPATE')\n",
        "  else:\n",
        "    print('JOGADA INVÁLIDA')\n",
        "  "
      ],
      "metadata": {
        "id": "ghJznl_nX45q",
        "colab": {
          "base_uri": "https://localhost:8080/"
        },
        "outputId": "0556cdd8-3d79-4460-cc8c-be550d653f48"
      },
      "execution_count": null,
      "outputs": [
        {
          "output_type": "stream",
          "name": "stdout",
          "text": [
            "\n",
            "[0] PEDRA\n",
            "[1] PAPEL\n",
            "[2] TESOURA \n",
            "Qual a sua jogada? 2\n",
            "JO\n",
            "KEN\n",
            "PÔ\n",
            "-=-=-=-=-=-=-=-=-=-=\n",
            "Computador jogou Pedra\n",
            "-=-=-=-=-=-=-=-=-=-=\n",
            "Jogador jogou Tesoura\n",
            "-=-=-=-=-=-=-=-=-=-=\n",
            "COMPUTADOR VENCE\n"
          ]
        }
      ]
    },
    {
      "cell_type": "code",
      "source": [
        "#ex046\n",
        "from time import sleep\n",
        "for c in range(10, -1, -1):\n",
        "  print(c)\n",
        "  sleep(1)\n",
        "print('BUM! BUM! BUM!')"
      ],
      "metadata": {
        "colab": {
          "base_uri": "https://localhost:8080/"
        },
        "id": "xz6kMCArK6aK",
        "outputId": "b5bedaf0-853a-4af7-e539-39155bdb7713"
      },
      "execution_count": null,
      "outputs": [
        {
          "output_type": "stream",
          "name": "stdout",
          "text": [
            "10\n",
            "9\n",
            "8\n",
            "7\n",
            "6\n",
            "5\n",
            "4\n",
            "3\n",
            "2\n",
            "1\n",
            "0\n",
            "BUM! BUM! BUM!\n"
          ]
        }
      ]
    },
    {
      "cell_type": "code",
      "source": [
        "#ex047\n",
        "for n in range(1, 51):\n",
        "  if n % 2 == 0:\n",
        "    print(n, end=' ')\n",
        "print('ACABOU')"
      ],
      "metadata": {
        "colab": {
          "base_uri": "https://localhost:8080/"
        },
        "id": "vfAv3sW8Mw5S",
        "outputId": "d699e2bc-c60b-4173-e5e2-36e0ee326a24"
      },
      "execution_count": null,
      "outputs": [
        {
          "output_type": "stream",
          "name": "stdout",
          "text": [
            "2 4 6 8 10 12 14 16 18 20 22 24 26 28 30 32 34 36 38 40 42 44 46 48 50 ACABOU\n"
          ]
        }
      ]
    },
    {
      "cell_type": "code",
      "source": [
        "#ex048\n",
        "soma = cont = 0\n",
        "for c in range(1, 501, 2):\n",
        "  if c % 3 == 0:\n",
        "    soma = soma + c\n",
        "    cont = cont + 1\n",
        "print(f'A soma de todos os {cont} valores solicitados é {soma}')"
      ],
      "metadata": {
        "colab": {
          "base_uri": "https://localhost:8080/"
        },
        "id": "FyEveP5HNujr",
        "outputId": "df01f454-2261-41bf-f6a2-2acb4a9eeb94"
      },
      "execution_count": null,
      "outputs": [
        {
          "output_type": "stream",
          "name": "stdout",
          "text": [
            "A soma de todos os 83 valores solicitados é 20667\n"
          ]
        }
      ]
    },
    {
      "cell_type": "code",
      "source": [
        "#ex049\n",
        "tabuada = int(input('Escolha um número: '))\n",
        "print('''\n",
        "[1] SOMA\n",
        "[2] SUBTRAÇÃO\n",
        "[3] MULTIPLICAÇÃO\n",
        "[4] DIVISÃO''')\n",
        "print('-=' * 10)\n",
        "opção = int(input('Qual a sua opção? '))\n",
        "print('-=' * 10)\n",
        "for x in range(1, 11):\n",
        "  if opção == 1:\n",
        "    print(f'{tabuada} + {x} = {tabuada + x}')\n",
        "  elif opção == 2:\n",
        "    print(f'{tabuada} - {x} = {tabuada - x}')\n",
        "  elif opção == 3:\n",
        "    print(f'{tabuada} X {x} = {tabuada * x}')\n",
        "  elif opção == 4:\n",
        "    print(f'{tabuada} / {x} = {tabuada / x}')\n",
        "  else:\n",
        "    print('OPÇÃO INVÁLIDA! ')"
      ],
      "metadata": {
        "colab": {
          "base_uri": "https://localhost:8080/"
        },
        "id": "WaizEfCZQuAt",
        "outputId": "aad523bb-01c1-4e8e-c079-815366e98271"
      },
      "execution_count": null,
      "outputs": [
        {
          "output_type": "stream",
          "name": "stdout",
          "text": [
            "Escolha um número: 50\n",
            "\n",
            "[1] SOMA\n",
            "[2] SUBTRAÇÃO\n",
            "[3] MULTIPLICAÇÃO\n",
            "[4] DIVISÃO\n",
            "-=-=-=-=-=-=-=-=-=-=\n",
            "Qual a sua opção? 1\n",
            "-=-=-=-=-=-=-=-=-=-=\n",
            "50 + 1 = 51\n",
            "50 + 2 = 52\n",
            "50 + 3 = 53\n",
            "50 + 4 = 54\n",
            "50 + 5 = 55\n",
            "50 + 6 = 56\n",
            "50 + 7 = 57\n",
            "50 + 8 = 58\n",
            "50 + 9 = 59\n",
            "50 + 10 = 60\n"
          ]
        }
      ]
    },
    {
      "cell_type": "code",
      "source": [
        "#ex050\n",
        "soma = 0\n",
        "cont = 0\n",
        "for y in range(1, 7):\n",
        "  núm = int(input('Digite o {} valor: '.format(y)))\n",
        "  if núm % 2 == 0:\n",
        "    soma = soma + núm\n",
        "    cont += 1\n",
        "print(f'Você informou {cont} números e a soma foi {soma}')"
      ],
      "metadata": {
        "colab": {
          "base_uri": "https://localhost:8080/"
        },
        "id": "9O6xO9iDUQ6Q",
        "outputId": "6c9304ef-399c-4d8d-a311-bb89eeda722c"
      },
      "execution_count": null,
      "outputs": [
        {
          "output_type": "stream",
          "name": "stdout",
          "text": [
            "Digite o 1 valor: 4\n",
            "Digite o 2 valor: 8\n",
            "Digite o 3 valor: 2\n",
            "Digite o 4 valor: 3\n",
            "Digite o 5 valor: 9\n",
            "Digite o 6 valor: 7\n",
            "Você informou 3 números e a soma foi 14\n"
          ]
        }
      ]
    },
    {
      "cell_type": "markdown",
      "source": [],
      "metadata": {
        "id": "kRKe62Q5n7bF"
      }
    },
    {
      "cell_type": "markdown",
      "source": [],
      "metadata": {
        "id": "PsmQkuCbnz5k"
      }
    }
  ]
}